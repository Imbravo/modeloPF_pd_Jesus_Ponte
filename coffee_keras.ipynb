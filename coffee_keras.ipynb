{
 "cells": [
  {
   "cell_type": "code",
   "execution_count": 1,
   "id": "initial_id",
   "metadata": {
    "collapsed": true,
    "ExecuteTime": {
     "end_time": "2023-12-06T04:08:32.824740500Z",
     "start_time": "2023-12-06T04:08:29.470211Z"
    }
   },
   "outputs": [],
   "source": [
    "import os\n",
    "import keras\n",
    "import numpy as np\n",
    "from glob import glob\n",
    "from tqdm import tqdm\n",
    "import tensorflow as tf\n",
    "\n",
    "import pandas as pd\n",
    "from keras.preprocessing.image import ImageDataGenerator\n",
    "\n",
    "\n",
    "import seaborn as sns\n",
    "import matplotlib.pyplot as plt\n",
    "\n",
    "\n",
    "from keras import Sequential\n",
    "from keras.layers import GlobalAvgPool2D, Dense, Dropout\n",
    "from keras.models import load_model\n",
    "\n",
    "\n",
    "from tensorflow.keras.applications import ResNet50, ResNet50V2, InceptionV3, Xception\n",
    "from keras.callbacks import EarlyStopping, ModelCheckpoint"
   ]
  },
  {
   "cell_type": "code",
   "execution_count": 2,
   "outputs": [
    {
     "name": "stdout",
     "output_type": "stream",
     "text": [
      "Found 960 images belonging to 4 classes.\n",
      "Found 240 images belonging to 4 classes.\n",
      "Found 400 images belonging to 4 classes.\n"
     ]
    }
   ],
   "source": [
    "train_gen = ImageDataGenerator(\n",
    "    rescale=1./255,\n",
    "    horizontal_flip=True,\n",
    "    rotation_range=20,\n",
    "    validation_split=0.2)\n",
    "\n",
    "test_gen = ImageDataGenerator(rescale=1./255)\n",
    "\n",
    "path = \"C:/Users/PC/Downloads/coffeebeansdataset/\"\n",
    "train_ds = train_gen.flow_from_directory(path + \"train\", target_size=(256,256), shuffle=True, batch_size=32, subset=\"training\", class_mode='binary')\n",
    "valid_ds = train_gen.flow_from_directory(path + \"train\", target_size=(256,256), shuffle=True, batch_size=32, subset=\"validation\", class_mode='binary')\n",
    "test_ds = train_gen.flow_from_directory(path + \"test\", target_size=(256,256), shuffle=True, batch_size=32, class_mode='binary')"
   ],
   "metadata": {
    "collapsed": false,
    "ExecuteTime": {
     "end_time": "2023-12-06T04:08:32.961997200Z",
     "start_time": "2023-12-06T04:08:32.824740500Z"
    }
   },
   "id": "959d40344f0e9824"
  },
  {
   "cell_type": "code",
   "execution_count": 6,
   "outputs": [
    {
     "data": {
      "text/plain": "['Dark', 'Green', 'Light', 'Medium']"
     },
     "execution_count": 6,
     "metadata": {},
     "output_type": "execute_result"
    }
   ],
   "source": [
    "class_names = sorted(os.listdir(\"C:/Users/PC/Downloads/coffeebeansdataset/train\"))\n",
    "n_classes = len(class_names)\n",
    "class_names"
   ],
   "metadata": {
    "collapsed": false,
    "ExecuteTime": {
     "end_time": "2023-12-06T04:11:19.492982700Z",
     "start_time": "2023-12-06T04:11:19.478905600Z"
    }
   },
   "id": "63994163625f9ab4"
  },
  {
   "cell_type": "code",
   "execution_count": 7,
   "outputs": [
    {
     "name": "stdout",
     "output_type": "stream",
     "text": [
      "Epoch 1/50\n",
      "30/30 [==============================] - ETA: 0s - loss: 0.6722 - accuracy: 0.7333"
     ]
    },
    {
     "name": "stderr",
     "output_type": "stream",
     "text": [
      "C:\\Users\\PC\\Lib\\site-packages\\keras\\src\\engine\\training.py:3000: UserWarning: You are saving your model as an HDF5 file via `model.save()`. This file format is considered legacy. We recommend using instead the native Keras format, e.g. `model.save('my_model.keras')`.\n",
      "  saving_api.save_model(\n"
     ]
    },
    {
     "name": "stdout",
     "output_type": "stream",
     "text": [
      "30/30 [==============================] - 55s 2s/step - loss: 0.6722 - accuracy: 0.7333 - val_loss: 0.1693 - val_accuracy: 0.9500\n",
      "Epoch 2/50\n",
      "30/30 [==============================] - 48s 2s/step - loss: 0.1509 - accuracy: 0.9479 - val_loss: 0.1053 - val_accuracy: 0.9625\n",
      "Epoch 3/50\n",
      "30/30 [==============================] - 46s 2s/step - loss: 0.1063 - accuracy: 0.9604 - val_loss: 0.1307 - val_accuracy: 0.9333\n",
      "Epoch 4/50\n",
      "30/30 [==============================] - 46s 2s/step - loss: 0.1099 - accuracy: 0.9604 - val_loss: 0.0672 - val_accuracy: 0.9917\n",
      "Epoch 5/50\n",
      "30/30 [==============================] - 47s 2s/step - loss: 0.0688 - accuracy: 0.9781 - val_loss: 0.0771 - val_accuracy: 0.9667\n",
      "Epoch 6/50\n",
      "30/30 [==============================] - 53s 2s/step - loss: 0.0616 - accuracy: 0.9823 - val_loss: 0.0546 - val_accuracy: 0.9917\n",
      "Epoch 7/50\n",
      "30/30 [==============================] - 48s 2s/step - loss: 0.0401 - accuracy: 0.9865 - val_loss: 0.0687 - val_accuracy: 0.9750\n",
      "Epoch 8/50\n",
      "30/30 [==============================] - 47s 2s/step - loss: 0.0551 - accuracy: 0.9812 - val_loss: 0.0660 - val_accuracy: 0.9667\n",
      "Epoch 9/50\n",
      "30/30 [==============================] - 47s 2s/step - loss: 0.0576 - accuracy: 0.9740 - val_loss: 0.0531 - val_accuracy: 0.9917\n",
      "Epoch 10/50\n",
      "30/30 [==============================] - 46s 2s/step - loss: 0.0621 - accuracy: 0.9771 - val_loss: 0.0466 - val_accuracy: 0.9833\n",
      "Epoch 11/50\n",
      "30/30 [==============================] - 45s 2s/step - loss: 0.0441 - accuracy: 0.9865 - val_loss: 0.0901 - val_accuracy: 0.9667\n",
      "Epoch 12/50\n",
      "30/30 [==============================] - 46s 2s/step - loss: 0.0349 - accuracy: 0.9906 - val_loss: 0.0427 - val_accuracy: 0.9917\n",
      "Epoch 13/50\n",
      "30/30 [==============================] - 46s 2s/step - loss: 0.0242 - accuracy: 0.9917 - val_loss: 0.0441 - val_accuracy: 0.9833\n",
      "Epoch 14/50\n",
      "30/30 [==============================] - 46s 2s/step - loss: 0.0314 - accuracy: 0.9917 - val_loss: 0.0702 - val_accuracy: 0.9708\n",
      "Epoch 15/50\n",
      "30/30 [==============================] - 46s 2s/step - loss: 0.0377 - accuracy: 0.9854 - val_loss: 0.0412 - val_accuracy: 0.9875\n",
      "Epoch 16/50\n",
      "30/30 [==============================] - 45s 1s/step - loss: 0.0260 - accuracy: 0.9896 - val_loss: 0.0591 - val_accuracy: 0.9708\n",
      "Epoch 17/50\n",
      "30/30 [==============================] - 45s 1s/step - loss: 0.0317 - accuracy: 0.9875 - val_loss: 0.0589 - val_accuracy: 0.9708\n",
      "Epoch 18/50\n",
      "30/30 [==============================] - 45s 2s/step - loss: 0.0193 - accuracy: 0.9917 - val_loss: 0.0651 - val_accuracy: 0.9792\n"
     ]
    },
    {
     "data": {
      "text/plain": "<keras.src.callbacks.History at 0x17b11aaa3d0>"
     },
     "execution_count": 7,
     "metadata": {},
     "output_type": "execute_result"
    }
   ],
   "source": [
    "name = \"ResNet50V2\"\n",
    "base_model = ResNet50V2(include_top=False, weights='imagenet', input_shape=(256,256,3))\n",
    "base_model.trainable = False\n",
    "\n",
    "resnet_50V2 = Sequential([\n",
    "     base_model, \n",
    "     GlobalAvgPool2D(),\n",
    "     Dense(256, activation='relu'),\n",
    "     Dropout(0.2),\n",
    "     Dense(n_classes, activation='softmax')\n",
    " ])\n",
    "\n",
    "\n",
    "resnet_50V2.compile(\n",
    "     loss='sparse_categorical_crossentropy',\n",
    "     optimizer='adam',\n",
    "     metrics=['accuracy']\n",
    ")\n",
    "\n",
    "cbs = [EarlyStopping(patience=3, restore_best_weights=True), ModelCheckpoint(name + \".h5\", save_best_only=True)]\n",
    "\n",
    "resnet_50V2.fit(train_ds, validation_data=valid_ds, epochs=50, callbacks=cbs)"
   ],
   "metadata": {
    "collapsed": false,
    "ExecuteTime": {
     "end_time": "2023-12-06T04:25:34.043045100Z",
     "start_time": "2023-12-06T04:11:24.310822Z"
    }
   },
   "id": "eb7cf28445e1a216"
  },
  {
   "cell_type": "code",
   "execution_count": 8,
   "outputs": [],
   "source": [
    "model_path = 'ResNet50V2.h5'\n",
    "model = load_model(model_path)"
   ],
   "metadata": {
    "collapsed": false,
    "ExecuteTime": {
     "end_time": "2023-12-06T04:26:15.524384500Z",
     "start_time": "2023-12-06T04:26:14.200324300Z"
    }
   },
   "id": "19a7d9fe8ea1a351"
  },
  {
   "cell_type": "code",
   "execution_count": 9,
   "outputs": [
    {
     "name": "stdout",
     "output_type": "stream",
     "text": [
      "Model: \"sequential\"\n",
      "_________________________________________________________________\n",
      " Layer (type)                Output Shape              Param #   \n",
      "=================================================================\n",
      " resnet50v2 (Functional)     (None, 8, 8, 2048)        23564800  \n",
      "                                                                 \n",
      " global_average_pooling2d_1  (None, 2048)              0         \n",
      "  (GlobalAveragePooling2D)                                       \n",
      "                                                                 \n",
      " dense_1 (Dense)             (None, 256)               524544    \n",
      "                                                                 \n",
      " dropout_1 (Dropout)         (None, 256)               0         \n",
      "                                                                 \n",
      " dense_2 (Dense)             (None, 4)                 1028      \n",
      "                                                                 \n",
      "=================================================================\n",
      "Total params: 24090372 (91.90 MB)\n",
      "Trainable params: 525572 (2.00 MB)\n",
      "Non-trainable params: 23564800 (89.89 MB)\n",
      "_________________________________________________________________\n"
     ]
    }
   ],
   "source": [
    "model.summary()"
   ],
   "metadata": {
    "collapsed": false,
    "ExecuteTime": {
     "end_time": "2023-12-06T04:26:21.657858200Z",
     "start_time": "2023-12-06T04:26:21.639656Z"
    }
   },
   "id": "3bbffd9225bad466"
  },
  {
   "cell_type": "code",
   "execution_count": 10,
   "outputs": [
    {
     "name": "stdout",
     "output_type": "stream",
     "text": [
      "13/13 [==============================] - 18s 1s/step - loss: 0.0157 - accuracy: 0.9975\n"
     ]
    },
    {
     "data": {
      "text/plain": "[0.015661807730793953, 0.9975000023841858]"
     },
     "execution_count": 10,
     "metadata": {},
     "output_type": "execute_result"
    }
   ],
   "source": [
    "model.evaluate(test_ds)"
   ],
   "metadata": {
    "collapsed": false,
    "ExecuteTime": {
     "end_time": "2023-12-06T04:26:51.843326100Z",
     "start_time": "2023-12-06T04:26:28.834428400Z"
    }
   },
   "id": "3352d13af7df4df5"
  }
 ],
 "metadata": {
  "kernelspec": {
   "display_name": "Python 3",
   "language": "python",
   "name": "python3"
  },
  "language_info": {
   "codemirror_mode": {
    "name": "ipython",
    "version": 2
   },
   "file_extension": ".py",
   "mimetype": "text/x-python",
   "name": "python",
   "nbconvert_exporter": "python",
   "pygments_lexer": "ipython2",
   "version": "2.7.6"
  }
 },
 "nbformat": 4,
 "nbformat_minor": 5
}
